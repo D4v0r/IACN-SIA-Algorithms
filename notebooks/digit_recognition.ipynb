{
 "cells": [
  {
   "cell_type": "code",
   "execution_count": 1,
   "metadata": {
    "pycharm": {
     "is_executing": false
    }
   },
   "outputs": [],
   "source": [
    "import matplotlib.pyplot as plt\n",
    "from models.mini_sia import SIA, TUnit, TUnits\n",
    "import models.mini_sia\n",
    "from typing import Tuple\n",
    "import numpy as np\n",
    "from PIL import Image, ImageOps\n",
    "\n",
    "%matplotlib inline"
   ]
  },
  {
   "cell_type": "code",
   "execution_count": 2,
   "metadata": {
    "pycharm": {
     "is_executing": false
    }
   },
   "outputs": [],
   "source": [
    "def aplanar(matriz):\n",
    "    bitstring = ''\n",
    "    for k in range(len(matriz)):\n",
    "        for w in range(len(matriz[k])):\n",
    "            bitstring += ''.join([str(int(matriz[k][w][0]))])\n",
    "    return bitstring"
   ]
  },
  {
   "cell_type": "code",
   "execution_count": 3,
   "metadata": {
    "pycharm": {
     "is_executing": false
    }
   },
   "outputs": [],
   "source": [
    "digits = ['0','1','2','3','4','6','7','9']\n",
    "inp = []\n",
    "for num in digits:\n",
    "    inp.append(plt.imread('digits/'+num+'.png'))\n",
    "for i in range(len(inp)):\n",
    "    inp[i] = aplanar(inp[i])"
   ]
  },
  {
   "cell_type": "code",
   "execution_count": 4,
   "metadata": {
    "pycharm": {
     "is_executing": false
    }
   },
   "outputs": [],
   "source": [
    "antigens =  inp"
   ]
  },
  {
   "cell_type": "code",
   "execution_count": 5,
   "metadata": {
    "pycharm": {
     "is_executing": false
    }
   },
   "outputs": [],
   "source": [
    "def format_image(bitstring):\n",
    "    img = []\n",
    "    nexti = 0\n",
    "    for i in range(0, len(bitstring), 12):\n",
    "        nexti += 12\n",
    "        row = bitstring[i: nexti]\n",
    "        img.append(list(map(int, row)))\n",
    "    return img"
   ]
  },
  {
   "cell_type": "code",
   "execution_count": 6,
   "metadata": {
    "pycharm": {
     "is_executing": false
    }
   },
   "outputs": [],
   "source": [
    "def display_multiple_img(images, rows = 1, cols=1):\n",
    "    figure, ax = plt.subplots(nrows=rows,ncols=cols )\n",
    "    for ind,title in enumerate(images):\n",
    "        ax.ravel()[ind].imshow(images[title])\n",
    "        ax.ravel()[ind].set_title(title)\n",
    "        ax.ravel()[ind].set_axis_off()\n",
    "    plt.tight_layout()\n",
    "    plt.show()    "
   ]
  },
  {
   "cell_type": "code",
   "execution_count": 7,
   "metadata": {},
   "outputs": [],
   "source": [
    "def show_digits(memory):\n",
    "    images = []\n",
    "    for key in memory:\n",
    "        images += [format_image(memory[key])]\n",
    "    titles = ['0', '1', '2', '3', '4', '6', '7', '9']\n",
    "    memories = dict(zip(titles, images))\n",
    "    display_multiple_img(memories,1, 8)"
   ]
  },
  {
   "cell_type": "code",
   "execution_count": 8,
   "metadata": {
    "pycharm": {
     "is_executing": false
    }
   },
   "outputs": [],
   "source": [
    "def hamming_func(s1: TUnit, s2: TUnit) -> float:\n",
    "    summation = 0\n",
    "    for a, b in zip(s1, s2):\n",
    "        summation += a != b\n",
    "    return 120 - summation\n"
   ]
  },
  {
   "cell_type": "code",
   "execution_count": 18,
   "metadata": {
    "pycharm": {
     "is_executing": false
    }
   },
   "outputs": [],
   "source": [
    "sib = SIA(120, 10)\n",
    "sib.units =  sib.bone_marrow_binary(10, 120)\n"
   ]
  },
  {
   "cell_type": "code",
   "execution_count": 19,
   "metadata": {
    "pycharm": {
     "is_executing": false
    }
   },
   "outputs": [
    {
     "data": {
      "image/png": "[encoded data removed]",
      "text/plain": [
       "<Figure size 432x288 with 8 Axes>"
      ]
     },
     "metadata": {
      "needs_background": "light"
     },
     "output_type": "display_data"
    }
   ],
   "source": [
    "titles = ['0', '1', '2', '3', '4', '6', '7', '9']\n",
    "show_digits(dict(zip(titles, antigens)))"
   ]
  },
  {
   "cell_type": "code",
   "execution_count": 20,
   "metadata": {
    "pycharm": {
     "is_executing": false
    }
   },
   "outputs": [
    {
     "data": {
      "image/png": "[encoded data removed]",
      "text/plain": [
       "<Figure size 432x288 with 8 Axes>"
      ]
     },
     "metadata": {
      "needs_background": "light"
     },
     "output_type": "display_data"
    }
   ],
   "source": [
    "show_digits(dict(zip(titles, sib.units[0:9])))"
   ]
  },
  {
   "cell_type": "code",
   "execution_count": 21,
   "metadata": {
    "pycharm": {
     "is_executing": false
    }
   },
   "outputs": [
    {
     "data": {
      "text/plain": [
       "{'000000000000000111111000001111111100011110011110011110011110011110011110011110011110001111111100000111111000000000000000': '111111111101110111111010111111101100001110011110001011011010001110011100111110011100001111111000000101111100000000000101',\n",
       " '000011110000000011110000000011110000000011110000000011110000000011110000000011110000000011110000000011110000000011110000': '111111111111101101011000011011010000100011110000000011110000001011110000000011110001001111110000010011110000000011110000',\n",
       " '111111111000111111111000000000011000000000011000111111111000111111111000111000000000111000000000111111111000111111111000': '111111111111111111111010110101010010010100011100110111111000000110111010111001000010111001110000111111111000111111101000',\n",
       " '001111111100001111111110000000000110000000000110000011111100000011111100000000000110000000000110001111111110001111111100': '111111111110111111111111001110010110011001010110000011111100000011111100100100000111000000010111001111101110010101111100',\n",
       " '011100001110011100001110011100001110011100001110011111111110011111111110000000001110000000001110000000001110000000001110': '111111111111111111001110111100101110011110011110011111111110000010111110000000001111000000001111000000000011000000001010',\n",
       " '111111100000111111100000110000000000110000000000111111100000111111100000110001100000110001100000111111100000111111100000': '111111111111111111110100110000101001110000010000111110100000101011101000110001100000110101000010111111100100111111100000',\n",
       " '001111111100001111111100000000001100000000011100000000111000000001110000000011100000000111000000000110000000000110000000': '111111111111111111111100101110101110001000011101000000111100001001100000000001100000000111000001000110000000000100000000',\n",
       " '000001111111000001111111000001100011000001100011000001111111000001111111000000000011000000000011000001111111000001111111': '111111111111100001111111010001100011010101110011010001111110001101011000001001000011000000000011000000111111010001111101'}"
      ]
     },
     "execution_count": 21,
     "metadata": {},
     "output_type": "execute_result"
    }
   ],
   "source": [
    "sib.clonalg(hamming_func, antigens, 5, 0, 200)\n"
   ]
  },
  {
   "cell_type": "code",
   "execution_count": 22,
   "metadata": {
    "pycharm": {
     "is_executing": false
    }
   },
   "outputs": [
    {
     "data": {
      "image/png": "[encoded data removed]",
      "text/plain": [
       "<Figure size 432x288 with 8 Axes>"
      ]
     },
     "metadata": {
      "needs_background": "light"
     },
     "output_type": "display_data"
    }
   ],
   "source": [
    "show_digits(sib.memory)"
   ]
  },
  {
   "cell_type": "code",
   "execution_count": 25,
   "metadata": {},
   "outputs": [
    {
     "data": {
      "image/png": "[encoded data removed]",
      "text/plain": [
       "<Figure size 432x288 with 8 Axes>"
      ]
     },
     "metadata": {
      "needs_background": "light"
     },
     "output_type": "display_data"
    }
   ],
   "source": [
    "sia = SIA(120, 10)\n",
    "sia.units =  sia.bone_marrow_binary(10, 120)\n",
    "sia.clonalg(hamming_func, antigens, 5, 0, 50)\n",
    "show_digits(sia.memory)"
   ]
  },
  {
   "cell_type": "code",
   "execution_count": 26,
   "metadata": {},
   "outputs": [
    {
     "data": {
      "image/png": "[encoded data removed]",
      "text/plain": [
       "<Figure size 432x288 with 8 Axes>"
      ]
     },
     "metadata": {
      "needs_background": "light"
     },
     "output_type": "display_data"
    }
   ],
   "source": [
    "sia = SIA(120, 10)\n",
    "sia.units =  sia.bone_marrow_binary(10, 120)\n",
    "sia.clonalg(hamming_func, antigens, 5, 0, 100)\n",
    "show_digits(sia.memory)"
   ]
  },
  {
   "cell_type": "code",
   "execution_count": 23,
   "metadata": {
    "pycharm": {
     "is_executing": false
    }
   },
   "outputs": [
    {
     "data": {
      "image/png": "[encoded data removed]",
      "text/plain": [
       "<Figure size 432x288 with 8 Axes>"
      ]
     },
     "metadata": {
      "needs_background": "light"
     },
     "output_type": "display_data"
    }
   ],
   "source": [
    "sia = SIA(120, 10)\n",
    "sia.units =  sia.bone_marrow_binary(10, 120)\n",
    "sia.clonalg(hamming_func, antigens, 5, 0, 300)\n",
    "show_digits(sia.memory)"
   ]
  },
  {
   "cell_type": "code",
   "execution_count": 24,
   "metadata": {},
   "outputs": [
    {
     "data": {
      "image/png": "[encoded data removed]",
      "text/plain": [
       "<Figure size 432x288 with 8 Axes>"
      ]
     },
     "metadata": {
      "needs_background": "light"
     },
     "output_type": "display_data"
    }
   ],
   "source": [
    "sia = SIA(120, 10)\n",
    "sia.units =  sia.bone_marrow_binary(10, 120)\n",
    "sia.clonalg(hamming_func, antigens, 5, 0, 400)\n",
    "show_digits(sia.memory)"
   ]
  },
  {
   "cell_type": "code",
   "execution_count": 27,
   "metadata": {},
   "outputs": [
    {
     "data": {
      "image/png": "[encoded data removed]",
      "text/plain": [
       "<Figure size 432x288 with 8 Axes>"
      ]
     },
     "metadata": {
      "needs_background": "light"
     },
     "output_type": "display_data"
    }
   ],
   "source": [
    "sia = SIA(120, 10)\n",
    "sia.units =  sia.bone_marrow_binary(10, 120)\n",
    "sia.clonalg(hamming_func, antigens, 5, 0, 500)\n",
    "show_digits(sia.memory)"
   ]
  },
  {
   "cell_type": "code",
   "execution_count": 28,
   "metadata": {},
   "outputs": [
    {
     "data": {
      "image/png": "[encoded data removed]",
      "text/plain": [
       "<Figure size 432x288 with 8 Axes>"
      ]
     },
     "metadata": {
      "needs_background": "light"
     },
     "output_type": "display_data"
    }
   ],
   "source": [
    "sia = SIA(120, 10)\n",
    "sia.units =  sia.bone_marrow_binary(10, 120)\n",
    "sia.clonalg(hamming_func, antigens, 5, 0, 1000)\n",
    "show_digits(sia.memory)"
   ]
  },
  {
   "cell_type": "code",
   "execution_count": 35,
   "metadata": {},
   "outputs": [
    {
     "data": {
      "image/png": "[encoded data removed]",
      "text/plain": [
       "<Figure size 432x288 with 8 Axes>"
      ]
     },
     "metadata": {
      "needs_background": "light"
     },
     "output_type": "display_data"
    }
   ],
   "source": [
    "sia = SIA(120, 10)\n",
    "sia.units =  sia.bone_marrow_binary(10, 120)\n",
    "sia.clonalg(hamming_func, antigens, 5, 0, 1500)\n",
    "show_digits(sia.memory)"
   ]
  },
  {
   "cell_type": "code",
   "execution_count": 34,
   "metadata": {},
   "outputs": [
    {
     "ename": "ValueError",
     "evalue": "list.remove(x): x not in list",
     "output_type": "error",
     "traceback": [
      "\u001b[1;31m---------------------------------------------------------------------------\u001b[0m",
      "\u001b[1;31mValueError\u001b[0m                                Traceback (most recent call last)",
      "\u001b[1;32m<ipython-input-34-7fe04fb0508f>\u001b[0m in \u001b[0;36m<module>\u001b[1;34m\u001b[0m\n\u001b[0;32m      1\u001b[0m \u001b[0msia\u001b[0m \u001b[1;33m=\u001b[0m \u001b[0mSIA\u001b[0m\u001b[1;33m(\u001b[0m\u001b[1;36m120\u001b[0m\u001b[1;33m,\u001b[0m \u001b[1;36m10\u001b[0m\u001b[1;33m)\u001b[0m\u001b[1;33m\u001b[0m\u001b[1;33m\u001b[0m\u001b[0m\n\u001b[0;32m      2\u001b[0m \u001b[0msia\u001b[0m\u001b[1;33m.\u001b[0m\u001b[0munits\u001b[0m \u001b[1;33m=\u001b[0m  \u001b[0msia\u001b[0m\u001b[1;33m.\u001b[0m\u001b[0mbone_marrow_binary\u001b[0m\u001b[1;33m(\u001b[0m\u001b[1;36m10\u001b[0m\u001b[1;33m,\u001b[0m \u001b[1;36m120\u001b[0m\u001b[1;33m)\u001b[0m\u001b[1;33m\u001b[0m\u001b[1;33m\u001b[0m\u001b[0m\n\u001b[1;32m----> 3\u001b[1;33m \u001b[0msia\u001b[0m\u001b[1;33m.\u001b[0m\u001b[0mclonalg\u001b[0m\u001b[1;33m(\u001b[0m\u001b[0mhamming_func\u001b[0m\u001b[1;33m,\u001b[0m \u001b[0mantigens\u001b[0m\u001b[1;33m,\u001b[0m \u001b[1;36m5\u001b[0m\u001b[1;33m,\u001b[0m \u001b[1;36m1\u001b[0m\u001b[1;33m,\u001b[0m \u001b[1;36m1\u001b[0m\u001b[1;33m)\u001b[0m\u001b[1;33m\u001b[0m\u001b[1;33m\u001b[0m\u001b[0m\n\u001b[0m\u001b[0;32m      4\u001b[0m \u001b[0mshow_digits\u001b[0m\u001b[1;33m(\u001b[0m\u001b[0msia\u001b[0m\u001b[1;33m.\u001b[0m\u001b[0mmemory\u001b[0m\u001b[1;33m)\u001b[0m\u001b[1;33m\u001b[0m\u001b[1;33m\u001b[0m\u001b[0m\n",
      "\u001b[1;32m~\\Desktop\\Noveno Semestre\\IACN\\SIA\\TAD-Mini\\models\\mini_sia.py\u001b[0m in \u001b[0;36mclonalg\u001b[1;34m(self, affinity, antigens, cloning, replacing, iterations)\u001b[0m\n\u001b[0;32m    166\u001b[0m                 best_detector = max(mutated,\n\u001b[0;32m    167\u001b[0m                                     key=lambda m: affinity(antigen, m))  # Buscar el mejor detector del antigeno.\n\u001b[1;32m--> 168\u001b[1;33m                 \u001b[0mself\u001b[0m\u001b[1;33m.\u001b[0m\u001b[0m__insert_pattern\u001b[0m\u001b[1;33m(\u001b[0m\u001b[0mantigen\u001b[0m\u001b[1;33m,\u001b[0m \u001b[0mbest_detector\u001b[0m\u001b[1;33m)\u001b[0m  \u001b[1;31m# Reemplazar en la memoria si es mejor.\u001b[0m\u001b[1;33m\u001b[0m\u001b[1;33m\u001b[0m\u001b[0m\n\u001b[0m\u001b[0;32m    169\u001b[0m                 \u001b[0mself\u001b[0m\u001b[1;33m.\u001b[0m\u001b[0m__replace\u001b[0m\u001b[1;33m(\u001b[0m\u001b[0mreplacing\u001b[0m\u001b[1;33m,\u001b[0m \u001b[0maffinity\u001b[0m\u001b[1;33m,\u001b[0m \u001b[0mantigen\u001b[0m\u001b[1;33m)\u001b[0m  \u001b[1;31m# Reemplazar los n peores por individuos nuevos.\u001b[0m\u001b[1;33m\u001b[0m\u001b[1;33m\u001b[0m\u001b[0m\n\u001b[0;32m    170\u001b[0m \u001b[1;33m\u001b[0m\u001b[0m\n",
      "\u001b[1;32m~\\Desktop\\Noveno Semestre\\IACN\\SIA\\TAD-Mini\\models\\mini_sia.py\u001b[0m in \u001b[0;36m__insert_pattern\u001b[1;34m(self, antigen, new_pattern)\u001b[0m\n\u001b[0;32m     52\u001b[0m         \u001b[0mbest_memory\u001b[0m \u001b[1;33m=\u001b[0m \u001b[0mmax\u001b[0m\u001b[1;33m(\u001b[0m\u001b[0mself\u001b[0m\u001b[1;33m.\u001b[0m\u001b[0mmemory\u001b[0m\u001b[1;33m[\u001b[0m\u001b[0mantigen\u001b[0m\u001b[1;33m]\u001b[0m\u001b[1;33m,\u001b[0m \u001b[0mnew_pattern\u001b[0m\u001b[1;33m)\u001b[0m\u001b[1;33m\u001b[0m\u001b[1;33m\u001b[0m\u001b[0m\n\u001b[0;32m     53\u001b[0m         \u001b[1;32mif\u001b[0m \u001b[0mbest_memory\u001b[0m \u001b[1;33m!=\u001b[0m \u001b[0mself\u001b[0m\u001b[1;33m.\u001b[0m\u001b[0mmemory\u001b[0m\u001b[1;33m[\u001b[0m\u001b[0mantigen\u001b[0m\u001b[1;33m]\u001b[0m\u001b[1;33m:\u001b[0m\u001b[1;33m\u001b[0m\u001b[1;33m\u001b[0m\u001b[0m\n\u001b[1;32m---> 54\u001b[1;33m             \u001b[0mself\u001b[0m\u001b[1;33m.\u001b[0m\u001b[0munits\u001b[0m\u001b[1;33m.\u001b[0m\u001b[0mremove\u001b[0m\u001b[1;33m(\u001b[0m\u001b[0mself\u001b[0m\u001b[1;33m.\u001b[0m\u001b[0mmemory\u001b[0m\u001b[1;33m[\u001b[0m\u001b[0mantigen\u001b[0m\u001b[1;33m]\u001b[0m\u001b[1;33m)\u001b[0m\u001b[1;33m\u001b[0m\u001b[1;33m\u001b[0m\u001b[0m\n\u001b[0m\u001b[0;32m     55\u001b[0m             \u001b[0mself\u001b[0m\u001b[1;33m.\u001b[0m\u001b[0munits\u001b[0m \u001b[1;33m+=\u001b[0m \u001b[1;33m[\u001b[0m\u001b[0mbest_memory\u001b[0m\u001b[1;33m]\u001b[0m\u001b[1;33m\u001b[0m\u001b[1;33m\u001b[0m\u001b[0m\n\u001b[0;32m     56\u001b[0m             \u001b[0mself\u001b[0m\u001b[1;33m.\u001b[0m\u001b[0mmemory\u001b[0m\u001b[1;33m[\u001b[0m\u001b[0mantigen\u001b[0m\u001b[1;33m]\u001b[0m \u001b[1;33m=\u001b[0m \u001b[0mbest_memory\u001b[0m\u001b[1;33m\u001b[0m\u001b[1;33m\u001b[0m\u001b[0m\n",
      "\u001b[1;31mValueError\u001b[0m: list.remove(x): x not in list"
     ]
    }
   ],
   "source": [
    "sia = SIA(120, 10)\n",
    "sia.units =  sia.bone_marrow_binary(10, 120)\n",
    "sia.clonalg(hamming_func, antigens, 5, 1, 1)\n",
    "show_digits(sia.memory)\n"
   ]
  },
  {
   "cell_type": "code",
   "execution_count": null,
   "metadata": {},
   "outputs": [],
   "source": []
  }
 ],
 "metadata": {
  "kernelspec": {
   "display_name": "Python 3",
   "language": "python",
   "name": "python3"
  },
  "language_info": {
   "codemirror_mode": {
    "name": "ipython",
    "version": 3
   },
   "file_extension": ".py",
   "mimetype": "text/x-python",
   "name": "python",
   "nbconvert_exporter": "python",
   "pygments_lexer": "ipython3",
   "version": "3.7.7"
  },
  "pycharm": {
   "stem_cell": {
    "cell_type": "raw",
    "metadata": {
     "collapsed": false
    },
    "source": []
   }
  }
 },
 "nbformat": 4,
 "nbformat_minor": 1
}
