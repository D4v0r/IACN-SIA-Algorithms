{
 "cells": [
  {
   "cell_type": "code",
   "execution_count": 1,
   "metadata": {
    "pycharm": {
     "is_executing": false
    }
   },
   "outputs": [],
   "source": [
    "import matplotlib.pyplot as plt\n",
    "from models.mini_sia import SIA, TUnit, TUnits\n",
    "import models.mini_sia\n",
    "from typing import Tuple\n",
    "import numpy as np\n",
    "from PIL import Image, ImageOps\n",
    "\n",
    "%matplotlib inline"
   ]
  },
  {
   "cell_type": "code",
   "execution_count": 2,
   "metadata": {
    "pycharm": {
     "is_executing": false
    }
   },
   "outputs": [],
   "source": [
    "def aplanar(matriz):\n",
    "    bitstring = ''\n",
    "    for k in range(len(matriz)):\n",
    "        for w in range(len(matriz[k])):\n",
    "            bitstring += ''.join([str(int(matriz[k][w][0]))])\n",
    "    return bitstring"
   ]
  },
  {
   "cell_type": "code",
   "execution_count": 3,
   "metadata": {
    "pycharm": {
     "is_executing": false
    }
   },
   "outputs": [],
   "source": [
    "digits = ['0','1','2','3','4','6','punto','9']\n",
    "inp = []\n",
    "for num in digits:\n",
    "    inp.append(plt.imread('digits/'+num+'.png'))\n",
    "for i in range(len(inp)):\n",
    "    inp[i] = aplanar(inp[i])"
   ]
  },
  {
   "cell_type": "code",
   "execution_count": 4,
   "metadata": {
    "pycharm": {
     "is_executing": false
    }
   },
   "outputs": [],
   "source": [
    "antigens =  inp"
   ]
  },
  {
   "cell_type": "code",
   "execution_count": 5,
   "metadata": {
    "pycharm": {
     "is_executing": false
    }
   },
   "outputs": [],
   "source": [
    "def format_image(bitstring):\n",
    "    img = []\n",
    "    nexti = 0\n",
    "    for i in range(0, len(bitstring), 12):\n",
    "        nexti += 12\n",
    "        row = bitstring[i: nexti]\n",
    "        img.append(list(map(int, row)))\n",
    "    return img"
   ]
  },
  {
   "cell_type": "code",
   "execution_count": 6,
   "metadata": {
    "pycharm": {
     "is_executing": false
    }
   },
   "outputs": [],
   "source": [
    "def display_multiple_img(images, rows = 1, cols=1):\n",
    "    figure, ax = plt.subplots(nrows=rows,ncols=cols )\n",
    "    for ind,title in enumerate(images):\n",
    "        ax.ravel()[ind].imshow(images[title])\n",
    "        ax.ravel()[ind].set_title(title)\n",
    "        ax.ravel()[ind].set_axis_off()\n",
    "    plt.tight_layout()\n",
    "    plt.show()    "
   ]
  },
  {
   "cell_type": "code",
   "execution_count": 12,
   "metadata": {},
   "outputs": [],
   "source": [
    "def show_digits(memory):\n",
    "    images = []\n",
    "    for key in memory:\n",
    "        images += [format_image(memory[key])]\n",
    "    titles = ['0', '1', '2', '3', '4', '6', '7', '9']\n",
    "    memories = dict(zip(titles, images))\n",
    "    display_multiple_img(memories,1, 8)"
   ]
  },
  {
   "cell_type": "code",
   "execution_count": 7,
   "metadata": {
    "pycharm": {
     "is_executing": false
    }
   },
   "outputs": [],
   "source": [
    "def hamming_func(s1: TUnit, s2: TUnit) -> float:\n",
    "    summation = 0\n",
    "    for a, b in zip(s1, s2):\n",
    "        summation += a != b\n",
    "    return 120 - summation\n"
   ]
  },
  {
   "cell_type": "code",
   "execution_count": 13,
   "metadata": {
    "pycharm": {
     "is_executing": false
    }
   },
   "outputs": [],
   "source": [
    "sib = SIA(120, 10)\n",
    "sib.units =  sib.bone_marrow_binary(10, 120)\n"
   ]
  },
  {
   "cell_type": "code",
   "execution_count": 14,
   "metadata": {
    "pycharm": {
     "is_executing": false
    }
   },
   "outputs": [
    {
     "data": {
      "image/png": "[encoded data removed]",
      "text/plain": [
       "<Figure size 432x288 with 8 Axes>"
      ]
     },
     "metadata": {
      "needs_background": "light"
     },
     "output_type": "display_data"
    }
   ],
   "source": [
    "titles = ['0', '1', '2', '3', '4', '6', '7', '9']\n",
    "show_digits(dict(zip(titles, antigens)))"
   ]
  },
  {
   "cell_type": "code",
   "execution_count": 15,
   "metadata": {
    "pycharm": {
     "is_executing": false
    }
   },
   "outputs": [
    {
     "data": {
      "image/png": "[encoded data removed]",
      "text/plain": [
       "<Figure size 432x288 with 8 Axes>"
      ]
     },
     "metadata": {
      "needs_background": "light"
     },
     "output_type": "display_data"
    }
   ],
   "source": [
    "show_digits(dict(zip(titles, sib.units[0:9])))"
   ]
  },
  {
   "cell_type": "code",
   "execution_count": 10,
   "metadata": {
    "pycharm": {
     "is_executing": false
    }
   },
   "outputs": [
    {
     "data": {
      "image/png": "[encoded data removed]",
      "text/plain": [
       "<Figure size 432x288 with 8 Axes>"
      ]
     },
     "metadata": {
      "needs_background": "light"
     },
     "output_type": "display_data"
    }
   ],
   "source": [
    "\n"
   ]
  },
  {
   "cell_type": "code",
   "execution_count": null,
   "metadata": {
    "pycharm": {
     "is_executing": false
    }
   },
   "outputs": [],
   "source": []
  },
  {
   "cell_type": "code",
   "execution_count": null,
   "metadata": {
    "pycharm": {
     "is_executing": false
    }
   },
   "outputs": [],
   "source": []
  }
 ],
 "metadata": {
  "kernelspec": {
   "display_name": "Python 3",
   "language": "python",
   "name": "python3"
  },
  "language_info": {
   "codemirror_mode": {
    "name": "ipython",
    "version": 3
   },
   "file_extension": ".py",
   "mimetype": "text/x-python",
   "name": "python",
   "nbconvert_exporter": "python",
   "pygments_lexer": "ipython3",
   "version": "3.7.7"
  },
  "pycharm": {
   "stem_cell": {
    "cell_type": "raw",
    "metadata": {
     "collapsed": false
    },
    "source": []
   }
  }
 },
 "nbformat": 4,
 "nbformat_minor": 1
}
